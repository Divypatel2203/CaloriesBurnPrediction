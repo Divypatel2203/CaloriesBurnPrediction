{
 "cells": [
  {
   "cell_type": "markdown",
   "id": "c333f017",
   "metadata": {},
   "source": [
    "# 🔥 Calories Burn Predictor with Login, Activity Type & Charts"
   ]
  },
  {
   "cell_type": "markdown",
   "id": "a8c02840",
   "metadata": {},
   "source": [
    "This notebook simulates a calorie prediction system with user login, activity-based prediction using MET values, history tracking via SQLite, and data visualization."
   ]
  },
  {
   "cell_type": "markdown",
   "id": "b5d10412",
   "metadata": {},
   "source": [
    "## Step 1: Import Libraries and MET Table"
   ]
  },
  {
   "cell_type": "code",
   "execution_count": null,
   "id": "f8eec672",
   "metadata": {},
   "outputs": [],
   "source": [
    "import sqlite3\n",
    "import datetime\n",
    "import pandas as pd\n",
    "import matplotlib.pyplot as plt\n",
    "import seaborn as sns\n",
    "from getpass import getpass\n",
    "\n",
    "# MET values for different activities\n",
    "activity_met = {\n",
    "    \"Walking\": 3.5,\n",
    "    \"Running\": 7.5,\n",
    "    \"Cycling\": 6.0,\n",
    "    \"Yoga\": 2.5,\n",
    "    \"Gym Workout\": 5.5,\n",
    "    \"Swimming\": 6.5,\n",
    "    \"Dancing\": 4.5,\n",
    "    \"Other\": 3.0\n",
    "}\n"
   ]
  },
  {
   "cell_type": "markdown",
   "id": "9debd76a",
   "metadata": {},
   "source": [
    "## Step 2: Set up SQLite Tables for Users and Data"
   ]
  },
  {
   "cell_type": "code",
   "execution_count": null,
   "id": "eb11e59c",
   "metadata": {},
   "outputs": [],
   "source": [
    "conn = sqlite3.connect(\"calories.db\")\n",
    "cursor = conn.cursor()\n",
    "\n",
    "# User table\n",
    "cursor.execute('''CREATE TABLE IF NOT EXISTS users (\n",
    "    username TEXT PRIMARY KEY,\n",
    "    password TEXT\n",
    ")''')\n",
    "\n",
    "# Data table\n",
    "cursor.execute('''CREATE TABLE IF NOT EXISTS calories_data (\n",
    "    id INTEGER PRIMARY KEY AUTOINCREMENT,\n",
    "    username TEXT,\n",
    "    age INTEGER,\n",
    "    gender TEXT,\n",
    "    height REAL,\n",
    "    weight REAL,\n",
    "    duration REAL,\n",
    "    activity TEXT,\n",
    "    calories REAL,\n",
    "    date TEXT\n",
    ")''')\n",
    "conn.commit()\n"
   ]
  },
  {
   "cell_type": "markdown",
   "id": "224ccd67",
   "metadata": {},
   "source": [
    "## Step 3: User Registration / Login"
   ]
  },
  {
   "cell_type": "code",
   "execution_count": null,
   "id": "5c3f2f2d",
   "metadata": {},
   "outputs": [],
   "source": [
    "# Simulate login/registration\n",
    "def user_login():\n",
    "    username = input(\"Enter username: \")\n",
    "    password = getpass(\"Enter password: \")\n",
    "    cursor.execute(\"SELECT * FROM users WHERE username=? AND password=?\", (username, password))\n",
    "    if cursor.fetchone():\n",
    "        print(f\"✅ Welcome back, {username}!\")\n",
    "    else:\n",
    "        print(\"🔐 User not found. Registering...\")\n",
    "        cursor.execute(\"INSERT INTO users (username, password) VALUES (?, ?)\", (username, password))\n",
    "        conn.commit()\n",
    "        print(f\"✅ Registered new user: {username}\")\n",
    "    return username\n",
    "\n",
    "username = user_login()\n"
   ]
  },
  {
   "cell_type": "markdown",
   "id": "d38c44ba",
   "metadata": {},
   "source": [
    "## Step 4: Calorie Calculation Function"
   ]
  },
  {
   "cell_type": "code",
   "execution_count": null,
   "id": "abdfd4ca",
   "metadata": {},
   "outputs": [],
   "source": [
    "def calculate_calories(met, weight, duration_min):\n",
    "    duration_hr = duration_min / 60\n",
    "    return met * weight * duration_hr * 1.05\n"
   ]
  },
  {
   "cell_type": "markdown",
   "id": "405d78ee",
   "metadata": {},
   "source": [
    "## Step 5: Enter User Info and Predict"
   ]
  },
  {
   "cell_type": "code",
   "execution_count": null,
   "id": "2022c520",
   "metadata": {},
   "outputs": [],
   "source": [
    "# Sample input\n",
    "age = int(input(\"Enter your age: \"))\n",
    "gender = input(\"Enter gender (Male/Female): \")\n",
    "height = float(input(\"Enter height (cm): \"))\n",
    "weight = float(input(\"Enter weight (kg): \"))\n",
    "activity = input(f\"Select activity {list(activity_met.keys())}: \")\n",
    "duration = float(input(\"Duration (in minutes): \"))\n",
    "\n",
    "met = activity_met.get(activity, 3.0)\n",
    "calories_burned = calculate_calories(met, weight, duration)\n",
    "print(f\"🔥 Calories Burned: {calories_burned:.2f} kcal\")\n",
    "\n",
    "cursor.execute(\"INSERT INTO calories_data (username, age, gender, height, weight, duration, activity, calories, date) VALUES (?, ?, ?, ?, ?, ?, ?, ?, ?)\",\n",
    "               (username, age, gender, height, weight, duration, activity, calories_burned, str(datetime.date.today())))\n",
    "conn.commit()\n"
   ]
  },
  {
   "cell_type": "markdown",
   "id": "f7ed4077",
   "metadata": {},
   "source": [
    "## Step 6: View Your History"
   ]
  },
  {
   "cell_type": "code",
   "execution_count": null,
   "id": "7dd065e6",
   "metadata": {},
   "outputs": [],
   "source": [
    "df = pd.read_sql_query(\"SELECT * FROM calories_data WHERE username = ?\", conn, params=(username,))\n",
    "df['date'] = pd.to_datetime(df['date'])\n",
    "df.sort_values(\"date\", inplace=True)\n",
    "df.tail()\n"
   ]
  },
  {
   "cell_type": "markdown",
   "id": "5a81f30c",
   "metadata": {},
   "source": [
    "## Step 7: Visualize Your Calories History"
   ]
  },
  {
   "cell_type": "code",
   "execution_count": null,
   "id": "2770161c",
   "metadata": {},
   "outputs": [],
   "source": [
    "plt.figure(figsize=(10,5))\n",
    "sns.barplot(data=df, x=\"date\", y=\"calories\", hue=\"activity\")\n",
    "plt.title(\"Calories Burned Over Time\")\n",
    "plt.xticks(rotation=45)\n",
    "plt.tight_layout()\n",
    "plt.show()\n",
    "\n",
    "plt.figure(figsize=(10,5))\n",
    "sns.lineplot(data=df, x=\"date\", y=\"calories\", marker=\"o\")\n",
    "plt.title(\"Calories Burned Trend\")\n",
    "plt.xticks(rotation=45)\n",
    "plt.tight_layout()\n",
    "plt.show()\n"
   ]
  },
  {
   "cell_type": "markdown",
   "id": "88a791cf",
   "metadata": {},
   "source": [
    "## ✅ Done!"
   ]
  }
 ],
 "metadata": {},
 "nbformat": 4,
 "nbformat_minor": 5
}